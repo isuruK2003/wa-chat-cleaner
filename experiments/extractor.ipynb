{
 "cells": [
  {
   "cell_type": "code",
   "execution_count": 1,
   "metadata": {},
   "outputs": [],
   "source": [
    "import json\n",
    "import string\n",
    "from datetime import datetime"
   ]
  },
  {
   "cell_type": "code",
   "execution_count": 2,
   "metadata": {},
   "outputs": [],
   "source": [
    "# filename = \"data/WhatsApp Chat with Sample Group.txt\"\n",
    "filename = \"data/WhatsApp Chat with Sample Group.txt\"\n",
    "\n",
    "with open(filename, \"r\", encoding=\"utf-8\") as file:\n",
    "    file_data = file.readlines()"
   ]
  },
  {
   "cell_type": "code",
   "execution_count": 3,
   "metadata": {},
   "outputs": [],
   "source": [
    "def isMessage(message: str) -> bool:\n",
    "    ignore_list = [\n",
    "        \"Messages and calls are end-to-end encrypted.\",\n",
    "        \"created this group\",\n",
    "        \"created group\",\n",
    "        \"<Media omitted>\",\n",
    "        \"<This message was edited>\",\n",
    "        \"live location shared\",\n",
    "        \"null\",\n",
    "        \"added you\",\n",
    "    ]\n",
    "    \n",
    "    for ignore in ignore_list:\n",
    "        if ignore in message:\n",
    "            return False\n",
    "    return True"
   ]
  },
  {
   "cell_type": "code",
   "execution_count": 4,
   "metadata": {},
   "outputs": [],
   "source": [
    "# Not under usage\n",
    "\n",
    "def isReaction(message: str) -> bool:\n",
    "    # Check if the message contains any alphabetical character\n",
    "    alphabet = string.ascii_letters\n",
    "    for char in message:\n",
    "        if char in alphabet:  # If it contains any alphabet, it's not a reaction\n",
    "            return False\n",
    "    return True"
   ]
  },
  {
   "cell_type": "code",
   "execution_count": 5,
   "metadata": {},
   "outputs": [],
   "source": [
    "def isValidDate(date: str) -> bool:\n",
    "    try:\n",
    "        # Try to parse the date string in the format DD/MM/YY\n",
    "        datetime.strptime(date, '%m/%d/%y')\n",
    "        return True\n",
    "    except ValueError:\n",
    "        # If the date is not valid, a ValueError will be raised\n",
    "        return False"
   ]
  },
  {
   "cell_type": "code",
   "execution_count": 6,
   "metadata": {},
   "outputs": [],
   "source": [
    "def filterUnicode(string: str, replacements: list[tuple[str, str]]) -> str:\n",
    "    # Replace specified Unicode characters with the given replacements\n",
    "    for uni, replace in replacements:\n",
    "        string = string.replace(uni, replace)\n",
    "    \n",
    "    # Remove any remaining non-ASCII characters\n",
    "    return string.encode('ascii', 'ignore').decode('ascii')\n"
   ]
  },
  {
   "cell_type": "code",
   "execution_count": 7,
   "metadata": {},
   "outputs": [],
   "source": [
    "def isValidTime(time: str) -> bool:\n",
    "    try:\n",
    "        # Try to parse the time string in the format HH:MM\n",
    "        datetime.strptime(time, '%I:%M %p')\n",
    "        return True\n",
    "    except ValueError:\n",
    "        # If the time is not valid, a ValueError will be raised\n",
    "        return False"
   ]
  },
  {
   "cell_type": "code",
   "execution_count": 8,
   "metadata": {},
   "outputs": [],
   "source": [
    "# Extract Data\n",
    "\n",
    "data = []\n",
    "ignored_data = []\n",
    "\n",
    "for d in file_data:\n",
    "\n",
    "    if not isMessage(d):\n",
    "        ignored_data.append({\"Content\":d, \"Cause\":\"Not a Message\"})\n",
    "        continue\n",
    "\n",
    "    d = d.rstrip(\"\\n\")  # Remove trailing newline character\n",
    "    \n",
    "    # Split the date and the rest of the message\n",
    "    comma_pos = d.find(\",\")\n",
    "    date, rest = d[0:comma_pos], d[comma_pos + 2:]\n",
    "    \n",
    "    # Split the time and the remaining part\n",
    "    dash_pos = rest.find(\" -\")\n",
    "    time, rest = rest[0:dash_pos], rest[dash_pos + 3:]\n",
    "    \n",
    "    # Split the username and message\n",
    "    colon_pos = rest.find(\":\")\n",
    "    username, message = rest[0:colon_pos], rest[colon_pos + 2:]\n",
    "\n",
    "    time = filterUnicode(time, [(\"\\u202f\", \" \")])\n",
    "    date = filterUnicode(date, [(\"\\u202f\", \" \")])\n",
    "\n",
    "    # Ensure that all parts are extracted properly\n",
    "    if not message:\n",
    "        ignored_data.append({\"Content\":d, \"Cause\":\"Empty Message\"})\n",
    "        continue\n",
    "\n",
    "    if not username:\n",
    "        ignored_data.append({\"Content\":d, \"Cause\":\"Empty Username\"})\n",
    "\n",
    "    if not isValidDate(date=date):\n",
    "        ignored_data.append({\"Content\":d, \"Cause\":\"Invalid Date\"})\n",
    "        continue\n",
    "\n",
    "    if not isValidTime(time=time):\n",
    "        ignored_data.append({\"Content\":d, \"Cause\":\"Invalid Time\"})\n",
    "        continue\n",
    "\n",
    "    # Store the message data\n",
    "    message_data = {\n",
    "        \"Date\": date,\n",
    "        \"Time\": time,\n",
    "        \"Username\": username,\n",
    "        \"Message\": message\n",
    "    }\n",
    "    \n",
    "    data.append(message_data)\n"
   ]
  },
  {
   "cell_type": "code",
   "execution_count": 9,
   "metadata": {},
   "outputs": [],
   "source": [
    "# Save Data\n",
    "\n",
    "output_filename = f\"output/{filename.split(\"/\")[-1].replace('.txt', '.json')}\"\n",
    "\n",
    "with open(output_filename, \"w\") as file:\n",
    "    json.dump(data, file, indent = 2)"
   ]
  },
  {
   "cell_type": "code",
   "execution_count": 10,
   "metadata": {},
   "outputs": [],
   "source": [
    "# Save Ignored Data\n",
    "\n",
    "ignored_data_output_filename = f\"output/ignored_{filename.split(\"/\")[-1].replace('.txt', '.json')}\"\n",
    "\n",
    "with open(ignored_data_output_filename, \"w\") as file:\n",
    "    json.dump(ignored_data, file, indent = 2)"
   ]
  },
  {
   "cell_type": "code",
   "execution_count": 11,
   "metadata": {},
   "outputs": [
    {
     "name": "stdout",
     "output_type": "stream",
     "text": [
      "Extracted Amount : 2\n",
      "Ignored Amount   : 2\n"
     ]
    }
   ],
   "source": [
    "# Some statistics\n",
    "\n",
    "print(f\"Extracted Amount : {len(data)}\")\n",
    "print(f\"Ignored Amount   : {len(ignored_data)}\")"
   ]
  }
 ],
 "metadata": {
  "kernelspec": {
   "display_name": "Python 3",
   "language": "python",
   "name": "python3"
  },
  "language_info": {
   "codemirror_mode": {
    "name": "ipython",
    "version": 3
   },
   "file_extension": ".py",
   "mimetype": "text/x-python",
   "name": "python",
   "nbconvert_exporter": "python",
   "pygments_lexer": "ipython3",
   "version": "3.12.2"
  }
 },
 "nbformat": 4,
 "nbformat_minor": 2
}
